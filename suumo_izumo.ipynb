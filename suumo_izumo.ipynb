{
  "nbformat": 4,
  "nbformat_minor": 0,
  "metadata": {
    "colab": {
      "provenance": [],
      "authorship_tag": "ABX9TyNM8/NmVCiTJ+SUzyM4WJfm",
      "include_colab_link": true
    },
    "kernelspec": {
      "name": "python3",
      "display_name": "Python 3"
    },
    "language_info": {
      "name": "python"
    }
  },
  "cells": [
    {
      "cell_type": "markdown",
      "metadata": {
        "id": "view-in-github",
        "colab_type": "text"
      },
      "source": [
        "<a href=\"https://colab.research.google.com/github/ojizou003/izumoCity_tintai/blob/main/suumo_izumo.ipynb\" target=\"_parent\"><img src=\"https://colab.research.google.com/assets/colab-badge.svg\" alt=\"Open In Colab\"/></a>"
      ]
    },
    {
      "cell_type": "code",
      "execution_count": null,
      "metadata": {
        "colab": {
          "base_uri": "https://localhost:8080/"
        },
        "id": "r5hc0mCva_fE",
        "outputId": "1d3565af-ed2a-4679-e5ea-7dc7756b0a1f"
      },
      "outputs": [
        {
          "output_type": "stream",
          "name": "stdout",
          "text": [
            "937\n"
          ]
        }
      ],
      "source": [
        "from bs4 import BeautifulSoup\n",
        "import requests\n",
        "from pprint import pprint\n",
        "from time import sleep\n",
        "import pandas as pd\n",
        "import re\n",
        "\n",
        "url = 'https://suumo.jp/jj/chintai/ichiran/FR301FC001/?ar=080&bs=040&ta=32&sc=32203&cb=0.0&ct=9999999&et=9999999&cn=9999999&mb=0&mt=9999999&shkr1=03&shkr2=03&shkr3=03&shkr4=03&fw2=&srch_navi=1&page={}'\n",
        "\n",
        "dlist = []\n",
        "\n",
        "# 1～41page、ループする\n",
        "for i in range(1,42):\n",
        "  target_url = url.format(i)\n",
        "  r = requests.get(target_url)\n",
        "  sleep(1)\n",
        "  soup = BeautifulSoup(r.text,features='lxml')\n",
        "  contents =soup.find_all('div',class_='cassetteitem')\n",
        "  for content in contents:\n",
        "    # 物件名\n",
        "    title = content.find('div',class_='cassetteitem_content-title').text\n",
        "    # 物件情報\n",
        "    detail = content.find('ul', class_='cassetteitem_detail')\n",
        "    # 部屋情報\n",
        "    other = content.find('table', class_='cassetteitem_other')\n",
        "    # 住所\n",
        "    address = detail.find('li', class_=\"cassetteitem_detail-col1\").text\n",
        "    # アクセス\n",
        "    access= detail.find('li', class_=\"cassetteitem_detail-col2\").text\n",
        "    # 築年数\n",
        "    age = detail.find('li', class_=\"cassetteitem_detail-col3\").text\n",
        "    # すべてのtrを取得\n",
        "    rows = other.find_all('tr', class_='js-cassette_link')\n",
        "    # 部屋情報\n",
        "    # room_info = []\n",
        "    for row in rows:\n",
        "      # その中からすべてのtdを取得(9)\n",
        "      tds = row.find_all('td')\n",
        "      # 階数[2]\n",
        "      floor = tds[2].text\n",
        "      # 賃料/管理費[3]\n",
        "      rent = tds[3]\n",
        "      fee,manage = rent.find_all('li')\n",
        "      # 敷金・礼金[4]\n",
        "      firstmoney = tds[4]\n",
        "      deposit,thank = firstmoney.find_all('li')\n",
        "      # 間取り・面積[5]\n",
        "      area =tds[5]\n",
        "      madori,menseki = area.find_all('li')\n",
        "      d = {\n",
        "        'a_物件名':title,\n",
        "        'b_住所':address,\n",
        "        'c_アクセス':access,\n",
        "        'd_築年数':age,\n",
        "        'e_部屋の階数':floor,\n",
        "        'f_賃料':fee.text,\n",
        "        'g_管理費':manage.text,\n",
        "        'h_敷金':deposit.text,\n",
        "        'i_礼金':thank.text,\n",
        "        'j_間取り':madori.text,\n",
        "        'k_専有面積':menseki.text\n",
        "      }\n",
        "      dlist.append(d)\n",
        "\n",
        "df = pd.DataFrame(dlist)\n",
        "df2 = df.applymap(lambda x: re.sub('\\n', ' ', x))\n",
        "df3 = df2.applymap(lambda x: re.sub('\\r', ' ', x))\n",
        "cdf = df3.applymap(lambda x: re.sub('\\t', ' ', x))\n",
        "# print(cdf.head())\n",
        "# print(cdf.shape)\n",
        "print(len(cdf.a_物件名.unique()))\n",
        "cdf.to_csv('test.csv',index=None,encoding='utf-8')"
      ]
    },
    {
      "cell_type": "code",
      "source": [],
      "metadata": {
        "id": "yIIMe7Erc7Jx"
      },
      "execution_count": null,
      "outputs": []
    }
  ]
}